{
 "cells": [
  {
   "cell_type": "code",
   "execution_count": null,
   "metadata": {},
   "outputs": [],
   "source": [
    "import matplotlib.pyplot as plt\n",
    "import numpy as np\n",
    "from flygym import Fly, Camera, SingleFlySimulation\n",
    "from flygym.vision import Retina\n",
    "from utils.arenas import ScatteredPillarsArena"
   ]
  },
  {
   "cell_type": "code",
   "execution_count": null,
   "metadata": {},
   "outputs": [],
   "source": [
    "plt.style.use(\"default\")\n",
    "retina = Retina()\n",
    "\n",
    "fly = Fly(render_raw_vision=True, enable_vision=True)\n",
    "arena = ScatteredPillarsArena(seed=0)\n",
    "cam_params = {\n",
    "    \"class\": \"nmf\",\n",
    "    \"mode\": \"track\",\n",
    "    \"ipd\": 0.068,\n",
    "    \"pos\": [0, 0, 80],\n",
    "    \"euler\": [0, 0, 0],\n",
    "}\n",
    "cam = Camera(\n",
    "    attachment_point=fly.model.worldbody,\n",
    "    camera_name=\"camera_top_zoomout\",\n",
    "    camera_parameters=cam_params,\n",
    ")\n",
    "sim = SingleFlySimulation(\n",
    "    fly=fly,\n",
    "    arena=arena,\n",
    "    cameras=[cam],\n",
    ")\n",
    "obs, info = sim.reset(seed=0)\n",
    "\n",
    "fig, ax = plt.subplots()\n",
    "ax.imshow(sim.render()[0])\n",
    "\n",
    "fig, ax = plt.subplots()\n",
    "ax.imshow(np.concatenate(info[\"raw_vision\"], axis=1) / 255)\n",
    "\n",
    "fig, ax = plt.subplots()\n",
    "ax.imshow(\n",
    "    np.concatenate(\n",
    "        [\n",
    "            retina.hex_pxls_to_human_readable(i, color_8bit=False).max(-1)\n",
    "            for i in obs[\"vision\"]\n",
    "        ],\n",
    "        axis=1,\n",
    "    ),\n",
    "    cmap=\"gray\",\n",
    ")"
   ]
  }
 ],
 "metadata": {
  "kernelspec": {
   "display_name": "flygym",
   "language": "python",
   "name": "python3"
  },
  "language_info": {
   "codemirror_mode": {
    "name": "ipython",
    "version": 3
   },
   "file_extension": ".py",
   "mimetype": "text/x-python",
   "name": "python",
   "nbconvert_exporter": "python",
   "pygments_lexer": "ipython3",
   "version": "3.12.9"
  }
 },
 "nbformat": 4,
 "nbformat_minor": 2
}
